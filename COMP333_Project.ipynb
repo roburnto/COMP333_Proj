{
 "cells": [
  {
   "cell_type": "markdown",
   "metadata": {
    "id": "U_DgnLZgm-Jm"
   },
   "source": [
    "# Imported Libraries\n"
   ]
  },
  {
   "cell_type": "code",
   "execution_count": 3,
   "metadata": {},
   "outputs": [
    {
     "name": "stdout",
     "output_type": "stream",
     "text": [
      "Collecting kaggle\n",
      "  Using cached kaggle-1.6.17-py3-none-any.whl\n",
      "Collecting pandas\n",
      "  Obtaining dependency information for pandas from https://files.pythonhosted.org/packages/29/d4/1244ab8edf173a10fd601f7e13b9566c1b525c4f365d6bee918e68381889/pandas-2.2.3-cp312-cp312-win_amd64.whl.metadata\n",
      "  Downloading pandas-2.2.3-cp312-cp312-win_amd64.whl.metadata (19 kB)\n",
      "Collecting psycopg2\n",
      "  Obtaining dependency information for psycopg2 from https://files.pythonhosted.org/packages/66/de/baed128ae0fc07460d9399d82e631ea31a1f171c0c4ae18f9808ac6759e3/psycopg2-2.9.10-cp312-cp312-win_amd64.whl.metadata\n",
      "  Downloading psycopg2-2.9.10-cp312-cp312-win_amd64.whl.metadata (5.0 kB)\n",
      "Collecting sqlalchemy\n",
      "  Obtaining dependency information for sqlalchemy from https://files.pythonhosted.org/packages/b7/ed/f6cd9395e41bfe47dd253d74d2dfc3cab34980d4e20c8878cb1117306085/SQLAlchemy-2.0.36-cp312-cp312-win_amd64.whl.metadata\n",
      "  Downloading SQLAlchemy-2.0.36-cp312-cp312-win_amd64.whl.metadata (9.9 kB)\n",
      "Requirement already satisfied: six>=1.10 in c:\\users\\eblow\\.virtualenvs\\backend-_o7a6dm_\\lib\\site-packages (from kaggle) (1.17.0)\n",
      "Collecting certifi>=2023.7.22 (from kaggle)\n",
      "  Obtaining dependency information for certifi>=2023.7.22 from https://files.pythonhosted.org/packages/12/90/3c9ff0512038035f59d279fddeb79f5f1eccd8859f06d6163c58798b9487/certifi-2024.8.30-py3-none-any.whl.metadata\n",
      "  Downloading certifi-2024.8.30-py3-none-any.whl.metadata (2.2 kB)\n",
      "Requirement already satisfied: python-dateutil in c:\\users\\eblow\\.virtualenvs\\backend-_o7a6dm_\\lib\\site-packages (from kaggle) (2.9.0.post0)\n",
      "Collecting requests (from kaggle)\n",
      "  Obtaining dependency information for requests from https://files.pythonhosted.org/packages/f9/9b/335f9764261e915ed497fcdeb11df5dfd6f7bf257d4a6a2a686d80da4d54/requests-2.32.3-py3-none-any.whl.metadata\n",
      "  Downloading requests-2.32.3-py3-none-any.whl.metadata (4.6 kB)\n",
      "Collecting tqdm (from kaggle)\n",
      "  Obtaining dependency information for tqdm from https://files.pythonhosted.org/packages/d0/30/dc54f88dd4a2b5dc8a0279bdd7270e735851848b762aeb1c1184ed1f6b14/tqdm-4.67.1-py3-none-any.whl.metadata\n",
      "  Downloading tqdm-4.67.1-py3-none-any.whl.metadata (57 kB)\n",
      "     ---------------------------------------- 0.0/57.7 kB ? eta -:--:--\n",
      "     ---------------------------------------- 57.7/57.7 kB 3.0 MB/s eta 0:00:00\n",
      "Collecting python-slugify (from kaggle)\n",
      "  Obtaining dependency information for python-slugify from https://files.pythonhosted.org/packages/a4/62/02da182e544a51a5c3ccf4b03ab79df279f9c60c5e82d5e8bec7ca26ac11/python_slugify-8.0.4-py2.py3-none-any.whl.metadata\n",
      "  Downloading python_slugify-8.0.4-py2.py3-none-any.whl.metadata (8.5 kB)\n",
      "Collecting urllib3 (from kaggle)\n",
      "  Obtaining dependency information for urllib3 from https://files.pythonhosted.org/packages/ce/d9/5f4c13cecde62396b0d3fe530a50ccea91e7dfc1ccf0e09c228841bb5ba8/urllib3-2.2.3-py3-none-any.whl.metadata\n",
      "  Downloading urllib3-2.2.3-py3-none-any.whl.metadata (6.5 kB)\n",
      "Collecting bleach (from kaggle)\n",
      "  Obtaining dependency information for bleach from https://files.pythonhosted.org/packages/fc/55/96142937f66150805c25c4d0f31ee4132fd33497753400734f9dfdcbdc66/bleach-6.2.0-py3-none-any.whl.metadata\n",
      "  Downloading bleach-6.2.0-py3-none-any.whl.metadata (30 kB)\n",
      "Collecting numpy>=1.26.0 (from pandas)\n",
      "  Obtaining dependency information for numpy>=1.26.0 from https://files.pythonhosted.org/packages/a6/84/fa11dad3404b7634aaab50733581ce11e5350383311ea7a7010f464c0170/numpy-2.1.3-cp312-cp312-win_amd64.whl.metadata\n",
      "  Downloading numpy-2.1.3-cp312-cp312-win_amd64.whl.metadata (60 kB)\n",
      "     ---------------------------------------- 0.0/60.8 kB ? eta -:--:--\n",
      "     ---------------------------------------- 60.8/60.8 kB 3.4 MB/s eta 0:00:00\n",
      "Requirement already satisfied: pytz>=2020.1 in c:\\users\\eblow\\.virtualenvs\\backend-_o7a6dm_\\lib\\site-packages (from pandas) (2023.3.post1)\n",
      "Requirement already satisfied: tzdata>=2022.7 in c:\\users\\eblow\\.virtualenvs\\backend-_o7a6dm_\\lib\\site-packages (from pandas) (2023.3)\n",
      "Collecting typing-extensions>=4.6.0 (from sqlalchemy)\n",
      "  Obtaining dependency information for typing-extensions>=4.6.0 from https://files.pythonhosted.org/packages/26/9f/ad63fc0248c5379346306f8668cda6e2e2e9c95e01216d2b8ffd9ff037d0/typing_extensions-4.12.2-py3-none-any.whl.metadata\n",
      "  Downloading typing_extensions-4.12.2-py3-none-any.whl.metadata (3.0 kB)\n",
      "Collecting greenlet!=0.4.17 (from sqlalchemy)\n",
      "  Obtaining dependency information for greenlet!=0.4.17 from https://files.pythonhosted.org/packages/43/21/a5d9df1d21514883333fc86584c07c2b49ba7c602e670b174bd73cfc9c7f/greenlet-3.1.1-cp312-cp312-win_amd64.whl.metadata\n",
      "  Downloading greenlet-3.1.1-cp312-cp312-win_amd64.whl.metadata (3.9 kB)\n",
      "Collecting webencodings (from bleach->kaggle)\n",
      "  Obtaining dependency information for webencodings from https://files.pythonhosted.org/packages/f4/24/2a3e3df732393fed8b3ebf2ec078f05546de641fe1b667ee316ec1dcf3b7/webencodings-0.5.1-py2.py3-none-any.whl.metadata\n",
      "  Downloading webencodings-0.5.1-py2.py3-none-any.whl.metadata (2.1 kB)\n",
      "Collecting text-unidecode>=1.3 (from python-slugify->kaggle)\n",
      "  Obtaining dependency information for text-unidecode>=1.3 from https://files.pythonhosted.org/packages/a6/a5/c0b6468d3824fe3fde30dbb5e1f687b291608f9473681bbf7dabbf5a87d7/text_unidecode-1.3-py2.py3-none-any.whl.metadata\n",
      "  Downloading text_unidecode-1.3-py2.py3-none-any.whl.metadata (2.4 kB)\n",
      "Collecting charset-normalizer<4,>=2 (from requests->kaggle)\n",
      "  Obtaining dependency information for charset-normalizer<4,>=2 from https://files.pythonhosted.org/packages/3e/67/7b72b69d25b89c0b3cea583ee372c43aa24df15f0e0f8d3982c57804984b/charset_normalizer-3.4.0-cp312-cp312-win_amd64.whl.metadata\n",
      "  Downloading charset_normalizer-3.4.0-cp312-cp312-win_amd64.whl.metadata (34 kB)\n",
      "Collecting idna<4,>=2.5 (from requests->kaggle)\n",
      "  Obtaining dependency information for idna<4,>=2.5 from https://files.pythonhosted.org/packages/76/c6/c88e154df9c4e1a2a66ccf0005a88dfb2650c1dffb6f5ce603dfbd452ce3/idna-3.10-py3-none-any.whl.metadata\n",
      "  Downloading idna-3.10-py3-none-any.whl.metadata (10 kB)\n",
      "Requirement already satisfied: colorama in c:\\users\\eblow\\.virtualenvs\\backend-_o7a6dm_\\lib\\site-packages (from tqdm->kaggle) (0.4.6)\n",
      "Downloading pandas-2.2.3-cp312-cp312-win_amd64.whl (11.5 MB)\n",
      "   ---------------------------------------- 0.0/11.5 MB ? eta -:--:--\n",
      "   ---------- ----------------------------- 2.9/11.5 MB 63.0 MB/s eta 0:00:01\n",
      "   ----------------------------- ---------- 8.5/11.5 MB 90.9 MB/s eta 0:00:01\n",
      "   ---------------------------------------- 11.5/11.5 MB 108.8 MB/s eta 0:00:00\n",
      "Downloading psycopg2-2.9.10-cp312-cp312-win_amd64.whl (1.2 MB)\n",
      "   ---------------------------------------- 0.0/1.2 MB ? eta -:--:--\n",
      "   ---------------------------------------- 1.2/1.2 MB 72.1 MB/s eta 0:00:00\n",
      "Downloading SQLAlchemy-2.0.36-cp312-cp312-win_amd64.whl (2.1 MB)\n",
      "   ---------------------------------------- 0.0/2.1 MB ? eta -:--:--\n",
      "   ---------------------------------------- 2.1/2.1 MB 64.9 MB/s eta 0:00:00\n",
      "Downloading certifi-2024.8.30-py3-none-any.whl (167 kB)\n",
      "   ---------------------------------------- 0.0/167.3 kB ? eta -:--:--\n",
      "   ---------------------------------------- 167.3/167.3 kB ? eta 0:00:00\n",
      "Downloading greenlet-3.1.1-cp312-cp312-win_amd64.whl (299 kB)\n",
      "   ---------------------------------------- 0.0/299.7 kB ? eta -:--:--\n",
      "   ---------------------------------------- 299.7/299.7 kB ? eta 0:00:00\n",
      "Downloading numpy-2.1.3-cp312-cp312-win_amd64.whl (12.6 MB)\n",
      "   ---------------------------------------- 0.0/12.6 MB ? eta -:--:--\n",
      "   ---------------- ----------------------- 5.2/12.6 MB 109.6 MB/s eta 0:00:01\n",
      "   ---------------------------------- ----- 10.7/12.6 MB 108.8 MB/s eta 0:00:01\n",
      "   ---------------------------------------- 12.6/12.6 MB 93.8 MB/s eta 0:00:00\n",
      "Downloading typing_extensions-4.12.2-py3-none-any.whl (37 kB)\n",
      "Downloading bleach-6.2.0-py3-none-any.whl (163 kB)\n",
      "   ---------------------------------------- 0.0/163.4 kB ? eta -:--:--\n",
      "   ---------------------------------------- 163.4/163.4 kB ? eta 0:00:00\n",
      "Downloading python_slugify-8.0.4-py2.py3-none-any.whl (10 kB)\n",
      "Downloading requests-2.32.3-py3-none-any.whl (64 kB)\n",
      "   ---------------------------------------- 0.0/64.9 kB ? eta -:--:--\n",
      "   ---------------------------------------- 64.9/64.9 kB 3.4 MB/s eta 0:00:00\n",
      "Downloading urllib3-2.2.3-py3-none-any.whl (126 kB)\n",
      "   ---------------------------------------- 0.0/126.3 kB ? eta -:--:--\n",
      "   ---------------------------------------- 126.3/126.3 kB ? eta 0:00:00\n",
      "Downloading tqdm-4.67.1-py3-none-any.whl (78 kB)\n",
      "   ---------------------------------------- 0.0/78.5 kB ? eta -:--:--\n",
      "   ---------------------------------------- 78.5/78.5 kB 4.6 MB/s eta 0:00:00\n",
      "Downloading charset_normalizer-3.4.0-cp312-cp312-win_amd64.whl (102 kB)\n",
      "   ---------------------------------------- 0.0/102.2 kB ? eta -:--:--\n",
      "   ---------------------------------------- 102.2/102.2 kB ? eta 0:00:00\n",
      "Downloading idna-3.10-py3-none-any.whl (70 kB)\n",
      "   ---------------------------------------- 0.0/70.4 kB ? eta -:--:--\n",
      "   ---------------------------------------- 70.4/70.4 kB ? eta 0:00:00\n",
      "Downloading text_unidecode-1.3-py2.py3-none-any.whl (78 kB)\n",
      "   ---------------------------------------- 0.0/78.2 kB ? eta -:--:--\n",
      "   ---------------------------------------- 78.2/78.2 kB ? eta 0:00:00\n",
      "Downloading webencodings-0.5.1-py2.py3-none-any.whl (11 kB)\n",
      "Installing collected packages: webencodings, text-unidecode, urllib3, typing-extensions, tqdm, python-slugify, psycopg2, numpy, idna, greenlet, charset-normalizer, certifi, bleach, sqlalchemy, requests, pandas, kaggle\n",
      "Successfully installed bleach-6.2.0 certifi-2024.8.30 charset-normalizer-3.4.0 greenlet-3.1.1 idna-3.10 kaggle-1.6.17 numpy-2.1.3 pandas-2.2.3 psycopg2-2.9.10 python-slugify-8.0.4 requests-2.32.3 sqlalchemy-2.0.36 text-unidecode-1.3 tqdm-4.67.1 typing-extensions-4.12.2 urllib3-2.2.3 webencodings-0.5.1\n"
     ]
    },
    {
     "name": "stderr",
     "output_type": "stream",
     "text": [
      "\n",
      "[notice] A new release of pip is available: 23.2.1 -> 24.3.1\n",
      "[notice] To update, run: python.exe -m pip install --upgrade pip\n"
     ]
    }
   ],
   "source": [
    "!pip install kaggle pandas psycopg2 sqlalchemy"
   ]
  },
  {
   "cell_type": "code",
   "execution_count": 6,
   "metadata": {},
   "outputs": [
    {
     "name": "stdout",
     "output_type": "stream",
     "text": [
      "Collecting kagglehub"
     ]
    },
    {
     "name": "stderr",
     "output_type": "stream",
     "text": [
      "\n",
      "[notice] A new release of pip is available: 23.2.1 -> 24.3.1\n",
      "[notice] To update, run: python.exe -m pip install --upgrade pip\n"
     ]
    },
    {
     "name": "stdout",
     "output_type": "stream",
     "text": [
      "\n",
      "  Obtaining dependency information for kagglehub from https://files.pythonhosted.org/packages/3c/74/10ea2151b11f8591f82d39c70c1dcc43d0160ba41f8ddb644eb1f5eac348/kagglehub-0.3.4-py3-none-any.whl.metadata\n",
      "  Downloading kagglehub-0.3.4-py3-none-any.whl.metadata (22 kB)\n",
      "Requirement already satisfied: packaging in c:\\users\\eblow\\.virtualenvs\\backend-_o7a6dm_\\lib\\site-packages (from kagglehub) (24.2)\n",
      "Requirement already satisfied: requests in c:\\users\\eblow\\.virtualenvs\\backend-_o7a6dm_\\lib\\site-packages (from kagglehub) (2.32.3)\n",
      "Requirement already satisfied: tqdm in c:\\users\\eblow\\.virtualenvs\\backend-_o7a6dm_\\lib\\site-packages (from kagglehub) (4.67.1)\n",
      "Requirement already satisfied: charset-normalizer<4,>=2 in c:\\users\\eblow\\.virtualenvs\\backend-_o7a6dm_\\lib\\site-packages (from requests->kagglehub) (3.4.0)\n",
      "Requirement already satisfied: idna<4,>=2.5 in c:\\users\\eblow\\.virtualenvs\\backend-_o7a6dm_\\lib\\site-packages (from requests->kagglehub) (3.10)\n",
      "Requirement already satisfied: urllib3<3,>=1.21.1 in c:\\users\\eblow\\.virtualenvs\\backend-_o7a6dm_\\lib\\site-packages (from requests->kagglehub) (2.2.3)\n",
      "Requirement already satisfied: certifi>=2017.4.17 in c:\\users\\eblow\\.virtualenvs\\backend-_o7a6dm_\\lib\\site-packages (from requests->kagglehub) (2024.8.30)\n",
      "Requirement already satisfied: colorama in c:\\users\\eblow\\.virtualenvs\\backend-_o7a6dm_\\lib\\site-packages (from tqdm->kagglehub) (0.4.6)\n",
      "Downloading kagglehub-0.3.4-py3-none-any.whl (43 kB)\n",
      "   ---------------------------------------- 0.0/43.0 kB ? eta -:--:--\n",
      "   ---------------------------------------- 43.0/43.0 kB 2.0 MB/s eta 0:00:00\n",
      "Installing collected packages: kagglehub\n",
      "Successfully installed kagglehub-0.3.4\n"
     ]
    }
   ],
   "source": [
    "!pip install kagglehub"
   ]
  },
  {
   "cell_type": "code",
   "execution_count": 7,
   "metadata": {
    "id": "84P_PB7ClVhv"
   },
   "outputs": [
    {
     "name": "stderr",
     "output_type": "stream",
     "text": [
      "c:\\Users\\eblow\\.virtualenvs\\backend-_O7a6dm_\\Lib\\site-packages\\tqdm\\auto.py:21: TqdmWarning: IProgress not found. Please update jupyter and ipywidgets. See https://ipywidgets.readthedocs.io/en/stable/user_install.html\n",
      "  from .autonotebook import tqdm as notebook_tqdm\n"
     ]
    }
   ],
   "source": [
    "import kagglehub\n",
    "import pandas as pd\n",
    "from sqlalchemy import create_engine\n",
    "import psycopg2\n",
    "import requests"
   ]
  },
  {
   "cell_type": "code",
   "execution_count": 9,
   "metadata": {
    "colab": {
     "base_uri": "https://localhost:8080/"
    },
    "id": "PvGtKpOUt9YT",
    "outputId": "2ca29cfc-87c6-4a90-d98d-b59a923f4e18"
   },
   "outputs": [
    {
     "name": "stdout",
     "output_type": "stream",
     "text": [
      "Connected to PostgreSQL database successfully!\n"
     ]
    }
   ],
   "source": [
    "host = 'localhost'  # Use explicit IP address\n",
    "port = '5432'\n",
    "database = 'postgres'\n",
    "user = 'postgres'\n",
    "password = 'Ebola101!'\n",
    "\n",
    "connection_string = f'postgresql+psycopg2://{user}:{password}@{host}:{port}/{database}'\n",
    "\n",
    "# Establish the connection\n",
    "engine = create_engine(connection_string)\n",
    "\n",
    "try:\n",
    "    with engine.connect() as connection:\n",
    "        print(\"Connected to PostgreSQL database successfully!\")\n",
    "except Exception as e:\n",
    "    print(\"Error connecting to PostgreSQL database:\", e)"
   ]
  },
  {
   "cell_type": "markdown",
   "metadata": {
    "id": "NYSqhAbxnBgN"
   },
   "source": [
    "# Extract"
   ]
  },
  {
   "cell_type": "code",
   "execution_count": 10,
   "metadata": {
    "id": "_LHhe85NnSNN"
   },
   "outputs": [
    {
     "name": "stdout",
     "output_type": "stream",
     "text": [
      "Downloading from https://www.kaggle.com/api/v1/datasets/download/andykrause/kingcountysales?dataset_version_number=7...\n"
     ]
    },
    {
     "name": "stderr",
     "output_type": "stream",
     "text": [
      "100%|██████████| 119M/119M [00:02<00:00, 52.3MB/s] "
     ]
    },
    {
     "name": "stdout",
     "output_type": "stream",
     "text": [
      "Extracting files...\n"
     ]
    },
    {
     "name": "stderr",
     "output_type": "stream",
     "text": [
      "\n"
     ]
    },
    {
     "name": "stdout",
     "output_type": "stream",
     "text": [
      "Path to dataset files: C:\\Users\\eblow\\.cache\\kagglehub\\datasets\\andykrause\\kingcountysales\\versions\\7\n"
     ]
    }
   ],
   "source": [
    "path = kagglehub.dataset_download(\"andykrause/kingcountysales\")\n",
    "\n",
    "print(\"Path to dataset files:\", path)"
   ]
  },
  {
   "cell_type": "code",
   "execution_count": 11,
   "metadata": {
    "id": "GHmGp21mrgvm"
   },
   "outputs": [
    {
     "name": "stdout",
     "output_type": "stream",
     "text": [
      "Downloading from https://www.kaggle.com/api/v1/datasets/download/andykrause/king-county-homes?dataset_version_number=2...\n"
     ]
    },
    {
     "name": "stderr",
     "output_type": "stream",
     "text": [
      "100%|██████████| 63.1M/63.1M [00:02<00:00, 25.0MB/s]"
     ]
    },
    {
     "name": "stdout",
     "output_type": "stream",
     "text": [
      "Extracting files...\n"
     ]
    },
    {
     "name": "stderr",
     "output_type": "stream",
     "text": [
      "\n"
     ]
    },
    {
     "name": "stdout",
     "output_type": "stream",
     "text": [
      "Path to dataset files: C:\\Users\\eblow\\.cache\\kagglehub\\datasets\\andykrause\\king-county-homes\\versions\\2\n"
     ]
    }
   ],
   "source": [
    "path2 = kagglehub.dataset_download(\"andykrause/king-county-homes\")\n",
    "\n",
    "print(\"Path to dataset files:\", path2)"
   ]
  },
  {
   "cell_type": "code",
   "execution_count": 12,
   "metadata": {
    "id": "YnKsZ8TioW8Z"
   },
   "outputs": [],
   "source": [
    "kingco_sales_df = pd.read_csv(path + \"/kingco_sales.csv\")"
   ]
  },
  {
   "cell_type": "code",
   "execution_count": 14,
   "metadata": {
    "id": "CxoXUulBqlni"
   },
   "outputs": [],
   "source": [
    "kingco_index = pd.read_csv(\"ATNHPIUS53033A.csv\")"
   ]
  },
  {
   "cell_type": "code",
   "execution_count": 15,
   "metadata": {
    "id": "avUC5StjrlGO"
   },
   "outputs": [],
   "source": [
    "kingco_homes_df = pd.read_csv(path2 + \"/kingco_homes.csv\")"
   ]
  },
  {
   "cell_type": "markdown",
   "metadata": {
    "id": "g9PDOTjPnMgo"
   },
   "source": [
    "# Transform"
   ]
  },
  {
   "cell_type": "markdown",
   "metadata": {
    "id": "ClZ2Xj17q3Td"
   },
   "source": [
    "Transforming the kingco_sales_df 'sale_date' column to sale_year and kingco_index 'DATE' column to 'year'"
   ]
  },
  {
   "cell_type": "code",
   "execution_count": 16,
   "metadata": {
    "id": "ttDKTGmKnSfd"
   },
   "outputs": [],
   "source": [
    "kingco_sales_df['sale_year'] = pd.to_datetime(kingco_sales_df['sale_date']).dt.year"
   ]
  },
  {
   "cell_type": "code",
   "execution_count": 17,
   "metadata": {
    "id": "RSl875UJrFtt"
   },
   "outputs": [],
   "source": [
    "kingco_index['year'] = pd.to_datetime(kingco_index['DATE']).dt.year"
   ]
  },
  {
   "cell_type": "markdown",
   "metadata": {
    "id": "NNoTN8H5rVZD"
   },
   "source": [
    "Renaming the 'ATNHPIUS53033A' to 'HPI'"
   ]
  },
  {
   "cell_type": "code",
   "execution_count": 18,
   "metadata": {
    "id": "7cN4M04OrU8c"
   },
   "outputs": [],
   "source": [
    "kingco_index.rename(columns={'ATNHPIUS53033A': 'HPI'}, inplace=True)"
   ]
  },
  {
   "cell_type": "markdown",
   "metadata": {
    "id": "VOShycMyrs1d"
   },
   "source": [
    "Create the HPI mapping from kingco_index"
   ]
  },
  {
   "cell_type": "code",
   "execution_count": 19,
   "metadata": {
    "id": "BLpUzEcrrrOK"
   },
   "outputs": [],
   "source": [
    "hpi_mapping = kingco_index.set_index('year')['HPI'].to_dict()"
   ]
  },
  {
   "cell_type": "code",
   "execution_count": 20,
   "metadata": {
    "id": "oOLa87QLrvCz"
   },
   "outputs": [],
   "source": [
    "# Determine the latest year in kingco_index and its HPI\n",
    "latest_year = kingco_index['year'].max()\n",
    "latest_hpi = kingco_index[kingco_index['year'] == latest_year]['HPI'].iloc[0]"
   ]
  },
  {
   "cell_type": "markdown",
   "metadata": {
    "id": "fVwnsrrOr4Fc"
   },
   "source": [
    " Adjust sale_price using the HPI ratio (latest year HPI / sale_year HPI)"
   ]
  },
  {
   "cell_type": "code",
   "execution_count": 21,
   "metadata": {
    "id": "WklUD7cdr1s6"
   },
   "outputs": [],
   "source": [
    "kingco_sales_df['adjusted_sale_price'] = kingco_sales_df.apply(\n",
    "    lambda row: row['sale_price'] * (latest_hpi / hpi_mapping[row['sale_year']]), axis=1\n",
    ")"
   ]
  },
  {
   "cell_type": "code",
   "execution_count": 22,
   "metadata": {
    "id": "541jX2gwr-HJ"
   },
   "outputs": [],
   "source": [
    "kingco_sales_df.drop(columns=['sale_price'], inplace=True)"
   ]
  },
  {
   "cell_type": "markdown",
   "metadata": {
    "id": "X5X1bW8xsq4E"
   },
   "source": [
    "generalizing the zonings to their types"
   ]
  },
  {
   "cell_type": "code",
   "execution_count": 23,
   "metadata": {
    "id": "HFy8mjGFspPH"
   },
   "outputs": [],
   "source": [
    "zoning_to_type = {\n",
    "    'SF 5000': 'Residential',\n",
    "    'RA2.5P': 'Residential',\n",
    "    'R6': 'Residential',\n",
    "    'R15 OP': 'Residential',\n",
    "    'SF 7200': 'Residential',\n",
    "    'R15': 'Residential',\n",
    "    'RA10': 'Residential',\n",
    "    'RS 8': 'Residential',\n",
    "    'R4P': 'Residential',\n",
    "    'SF-S': 'Residential',\n",
    "    'R-5': 'Residential',\n",
    "    'R 4': 'Residential',\n",
    "    'R-6': 'Residential',\n",
    "    'R-8.4': 'Residential',\n",
    "    'RS 10000': 'Residential',\n",
    "    'R-15': 'Residential',\n",
    "    'R1P': 'Residential',\n",
    "    'RA5P': 'Residential',\n",
    "    'R8P': 'Residential',\n",
    "    'RA10P': 'Residential',\n",
    "    'R-2.5': 'Residential',\n",
    "    'R-10': 'Residential',\n",
    "    'R4': 'Residential',\n",
    "    'RS7.2': 'Residential',\n",
    "    'R1': 'Residential',\n",
    "    'R2': 'Residential',\n",
    "    'R16': 'Residential',\n",
    "    'R 5': 'Residential',\n",
    "    'R 15': 'Residential',\n",
    "    'R-1': 'Residential',\n",
    "    'R-2': 'Residential',\n",
    "    'RS 7200': 'Residential',\n",
    "    'R1-7.2': 'Residential',\n",
    "    'R-24': 'Residential',\n",
    "    'R 11': 'Residential',\n",
    "    'R1-7.5': 'Residential',\n",
    "    'R 1': 'Residential',\n",
    "    'RS 11.2': 'Residential',\n",
    "    'R1-15': 'Residential',\n",
    "    'RS 12.5': 'Residential',\n",
    "    'R12': 'Residential',\n",
    "    'R20': 'Residential',\n",
    "    'R30': 'Residential',\n",
    "    'R40': 'Residential',\n",
    "    'R1 7.2': 'Residential',\n",
    "    'R-3.5': 'Residential',\n",
    "    'R1-5': 'Residential',\n",
    "    'R-12': 'Residential',\n",
    "    'R 8400': 'Residential',\n",
    "    'R-1-10': 'Residential',\n",
    "    'R 7200': 'Residential',\n",
    "    'R-8': 'Residential',\n",
    "    'R-4': 'Residential',\n",
    "    'R-3': 'Residential',\n",
    "    'R-1.8': 'Residential',\n",
    "    'R 12': 'Residential',\n",
    "    'R 5400d': 'Residential',\n",
    "    'R 5400a': 'Residential',\n",
    "    'R 2800': 'Residential',\n",
    "    'R 9600, SSHO': 'Residential',\n",
    "    'R 2800, OP, CB': 'Residential',\n",
    "    'R 4000, OP, CB': 'Residential',\n",
    "    'R 4000, OP, NB': 'Residential',\n",
    "    'R 2800, OP, LI': 'Residential',\n",
    "    'R 5400d, SSHO': 'Residential',\n",
    "    'R 4000': 'Residential',\n",
    "    'R 8400, OP': 'Residential',\n",
    "    'R 9600, OP': 'Residential',\n",
    "    'R 4000, OP, LI': 'Residential',\n",
    "    'R-18': 'Residential',\n",
    "    'R-20': 'Residential',\n",
    "    'R-7.2': 'Residential',\n",
    "    'R-10/C': 'Residential',\n",
    "\n",
    "    # Manufacturing categories\n",
    "    'M1': 'Manufacturing',\n",
    "    'M2': 'Manufacturing',\n",
    "    'MFR': 'Manufacturing',\n",
    "    'MU': 'Manufacturing',\n",
    "    'MUR': 'Manufacturing',\n",
    "    'MIO': 'Manufacturing',\n",
    "    'MUR-70': 'Manufacturing',\n",
    "    'MUR-45': 'Manufacturing',\n",
    "    'MUR-35': 'Manufacturing',\n",
    "    'MR': 'Manufacturing',\n",
    "    'MR-E': 'Manufacturing',\n",
    "    'MR-M': 'Manufacturing',\n",
    "    'MR-RC': 'Manufacturing',\n",
    "    'MR-G': 'Manufacturing',\n",
    "    'MR (M)': 'Manufacturing',\n",
    "    'MR (M1)': 'Manufacturing',\n",
    "    'MR (M2)': 'Manufacturing',\n",
    "    'RC': 'Manufacturing',\n",
    "    'RM': 'Manufacturing',\n",
    "    'RM2.4': 'Manufacturing',\n",
    "    'RM1.8': 'Manufacturing',\n",
    "    'RM-F': 'Manufacturing',\n",
    "    'RMH': 'Manufacturing',\n",
    "    'RM900': 'Manufacturing',\n",
    "    'RM900P': 'Manufacturing',\n",
    "    'RM2400': 'Manufacturing',\n",
    "    'RM3600': 'Manufacturing',\n",
    "    'RM 3.6': 'Manufacturing',\n",
    "    'RM 50': 'Manufacturing',\n",
    "    'RM-1800': 'Manufacturing',\n",
    "    'RML': 'Manufacturing',\n",
    "    'RM 5.0': 'Manufacturing',\n",
    "    'RML': 'Manufacturing',\n",
    "    'RM 900': 'Manufacturing',\n",
    "    'MIO-50-NC2-40': 'Manufacturing',\n",
    "    'MIO-37-LR2 (M)': 'Manufacturing',\n",
    "    'MIO-37-LR1 (M)': 'Manufacturing',\n",
    "    'UM-2400': 'Manufacturing',\n",
    "    'UM-3600': 'Manufacturing',\n",
    "    'UD': 'Manufacturing',\n",
    "    'UDC': 'Manufacturing',\n",
    "    'UDH': 'Manufacturing',\n",
    "    'UO': 'Manufacturing',\n",
    "\n",
    "    # Transport, Communications, and Public Services\n",
    "    'UR': 'Transport, Communications, and Public Services',\n",
    "    'URP': 'Transport, Communications, and Public Services',\n",
    "    'UP': 'Transport, Communications, and Public Services',\n",
    "    'UPZ': 'Transport, Communications, and Public Services',\n",
    "    'U1': 'Transport, Communications, and Public Services',\n",
    "    'U2': 'Transport, Communications, and Public Services',\n",
    "    'U3': 'Transport, Communications, and Public Services',\n",
    "    'U4': 'Transport, Communications, and Public Services',\n",
    "    'U5': 'Transport, Communications, and Public Services',\n",
    "    'U6': 'Transport, Communications, and Public Services',\n",
    "    'U7': 'Transport, Communications, and Public Services',\n",
    "    'U8': 'Transport, Communications, and Public Services',\n",
    "    'U9': 'Transport, Communications, and Public Services',\n",
    "    'U10': 'Transport, Communications, and Public Services',\n",
    "    'U11': 'Transport, Communications, and Public Services',\n",
    "    'U12': 'Transport, Communications, and Public Services',\n",
    "    'U13': 'Transport, Communications, and Public Services',\n",
    "    'U14': 'Transport, Communications, and Public Services',\n",
    "    'U15': 'Transport, Communications, and Public Services',\n",
    "    'U16': 'Transport, Communications, and Public Services',\n",
    "    'U17': 'Transport, Communications, and Public Services',\n",
    "    'U18': 'Transport, Communications, and Public Services',\n",
    "    'U19': 'Transport, Communications, and Public Services',\n",
    "    'U20': 'Transport, Communications, and Public Services',\n",
    "    'U21': 'Transport, Communications, and Public Services',\n",
    "    'U22': 'Transport, Communications, and Public Services',\n",
    "    'U23': 'Transport, Communications, and Public Services',\n",
    "    'U24': 'Transport, Communications, and Public Services',\n",
    "    'U25': 'Transport, Communications, and Public Services',\n",
    "    'U26': 'Transport, Communications, and Public Services',\n",
    "    'U27': 'Transport, Communications, and Public Services',\n",
    "    'U28': 'Transport, Communications, and Public Services',\n",
    "    'U29': 'Transport, Communications, and Public Services',\n",
    "    'U30': 'Transport, Communications, and Public Services',\n",
    "    'U31': 'Transport, Communications, and Public Services',\n",
    "    'U32': 'Transport, Communications, and Public Services',\n",
    "    'U33': 'Transport, Communications, and Public Services',\n",
    "    'U34': 'Transport, Communications, and Public Services',\n",
    "    'U35': 'Transport, Communications, and Public Services',\n",
    "    'U36': 'Transport, Communications, and Public Services',\n",
    "    'U37': 'Transport, Communications, and Public Services',\n",
    "    'U38': 'Transport, Communications, and Public Services',\n",
    "    'U39': 'Transport, Communications, and Public Services',\n",
    "    'U40': 'Transport, Communications, and Public Services',\n",
    "    'U41': 'Transport, Communications, and Public Services',\n",
    "    'U42': 'Transport, Communications, and Public Services',\n",
    "    'U43': 'Transport, Communications, and Public Services',\n",
    "    'U44': 'Transport, Communications, and Public Services',\n",
    "    'U45': 'Transport, Communications, and Public Services',\n",
    "    'U46': 'Transport, Communications, and Public Services',\n",
    "    'U47': 'Transport, Communications, and Public Services',\n",
    "    'U48': 'Transport, Communications, and Public Services',\n",
    "    'U49': 'Transport, Communications, and Public Services',\n",
    "    'U50': 'Transport, Communications, and Public Services',\n",
    "    'U51': 'Transport, Communications, and Public Services',\n",
    "    'U52': 'Transport, Communications, and Public Services',\n",
    "    'U53': 'Transport, Communications, and Public Services',\n",
    "    'U54': 'Transport, Communications, and Public Services',\n",
    "    'U55': 'Transport, Communications, and Public Services',\n",
    "    'U56': 'Transport, Communications, and Public Services',\n",
    "    'U57': 'Transport, Communications, and Public Services',\n",
    "    'U58': 'Transport, Communications, and Public Services',\n",
    "    'U59': 'Transport, Communications, and Public Services',\n",
    "    'U60': 'Transport, Communications, and Public Services',\n",
    "    'U61': 'Transport, Communications, and Public Services',\n",
    "    'U62': 'Transport, Communications, and Public Services',\n",
    "    'U63': 'Transport, Communications, and Public Services',\n",
    "    'U64': 'Transport, Communications, and Public Services',\n",
    "    'U65': 'Transport, Communications, and Public Services',\n",
    "    'U66': 'Transport, Communications, and Public Services',\n",
    "    'U67': 'Transport, Communications, and Public Services',\n",
    "    'U68': 'Transport, Communications, and Public Services',\n",
    "    'U69': 'Transport, Communications, and Public Services',\n",
    "    'U70': 'Transport, Communications, and Public Services',\n",
    "    'U71': 'Transport, Communications, and Public Services',\n",
    "    'U72': 'Transport, Communications, and Public Services',\n",
    "    'U73': 'Transport, Communications, and Public Services',\n",
    "    'U74': 'Transport, Communications, and Public Services',\n",
    "    'U75': 'Transport, Communications, and Public Services',\n",
    "    'U76': 'Transport, Communications, and Public Services',\n",
    "    'U77': 'Transport, Communications, and Public Services',\n",
    "    'U78': 'Transport, Communications, and Public Services',\n",
    "    'U79': 'Transport, Communications, and Public Services',\n",
    "    'U80': 'Transport, Communications, and Public Services',\n",
    "    'U81': 'Transport, Communications, and Public Services',\n",
    "    'U82': 'Transport, Communications, and Public Services',\n",
    "    'U83': 'Transport, Communications, and Public Services',\n",
    "    'U84': 'Transport, Communications, and Public Services',\n",
    "    'U85': 'Transport, Communications, and Public Services',\n",
    "    'U86': 'Transport, Communications, and Public Services',\n",
    "    'U87': 'Transport, Communications, and Public Services',\n",
    "    'U88': 'Transport, Communications, and Public Services',\n",
    "    'U89': 'Transport, Communications, and Public Services',\n",
    "    'U90': 'Transport, Communications, and Public Services',\n",
    "    'U91': 'Transport, Communications, and Public Services',\n",
    "    'U92': 'Transport, Communications, and Public Services',\n",
    "    'U93': 'Transport, Communications, and Public Services',\n",
    "    'U94': 'Transport, Communications, and Public Services',\n",
    "    'U95': 'Transport, Communications, and Public Services',\n",
    "    'U96': 'Transport, Communications, and Public Services',\n",
    "    'U97': 'Transport, Communications, and Public Services',\n",
    "    'U98': 'Transport, Communications, and Public Services',\n",
    "    'U99': 'Transport, Communications, and Public Services',\n",
    "\n",
    "    # Recreational uses\n",
    "    'R-P': 'Recreational',\n",
    "    'R-M': 'Recreational',\n",
    "    'R-N': 'Recreational',\n",
    "    'R-G': 'Recreational',\n",
    "    'R-E': 'Recreational',\n",
    "    'R-O': 'Recreational',\n",
    "\n",
    "    # Parks\n",
    "    'P': 'Parks',\n",
    "    'PR': 'Parks',\n",
    "    'PR1': 'Parks',\n",
    "    'PR2': 'Parks',\n",
    "    'PR3': 'Parks',\n",
    "\n",
    "    # Commercial\n",
    "    'C': 'Commercial',\n",
    "    'CR': 'Commercial',\n",
    "    'C1': 'Commercial',\n",
    "    'C2': 'Commercial',\n",
    "    'C3': 'Commercial',\n",
    "    'CM': 'Commercial',\n",
    "\n",
    "    # Other\n",
    "    'OS': 'Other',\n",
    "    'PUD': 'Other',\n",
    "    'G': 'Other',\n",
    "    'G-R': 'Other',\n",
    "    'O': 'Other',\n",
    "    'O1': 'Other',\n",
    "    'O2': 'Other',\n",
    "    'O3': 'Other',\n",
    "    'O4': 'Other',\n",
    "    'O5': 'Other',\n",
    "    'O6': 'Other',\n",
    "    'O7': 'Other',\n",
    "    'O8': 'Other',\n",
    "    'O9': 'Other',\n",
    "    'OS1': 'Other',\n",
    "    'OS2': 'Other',\n",
    "    'OS3': 'Other',\n",
    "    'OS4': 'Other',\n",
    "    'OS5': 'Other',\n",
    "    'OS6': 'Other',\n",
    "    'OS7': 'Other',\n",
    "    'OS8': 'Other',\n",
    "    'OS9': 'Other',\n",
    "    'OS10': 'Other',\n",
    "    'OS11': 'Other',\n",
    "    'OS12': 'Other',\n",
    "    'OS13': 'Other',\n",
    "    'OS14': 'Other',\n",
    "    'OS15': 'Other',\n",
    "    'OS16': 'Other',\n",
    "    'OS17': 'Other',\n",
    "    'OS18': 'Other',\n",
    "    'OS19': 'Other',\n",
    "    'OS20': 'Other',\n",
    "    'OS21': 'Other',\n",
    "    'OS22': 'Other',\n",
    "    'OS23': 'Other',\n",
    "    'OS24': 'Other',\n",
    "    'OS25': 'Other',\n",
    "    'OS26': 'Other',\n",
    "    'OS27': 'Other',\n",
    "    'OS28': 'Other',\n",
    "    'OS29': 'Other',\n",
    "    'OS30': 'Other',\n",
    "    'OS31': 'Other',\n",
    "    'OS32': 'Other',\n",
    "    'OS33': 'Other',\n",
    "    'OS34': 'Other',\n",
    "    'OS35': 'Other',\n",
    "    'OS36': 'Other',\n",
    "    'OS37': 'Other',\n",
    "    'OS38': 'Other',\n",
    "    'OS39': 'Other',\n",
    "    'OS40': 'Other',\n",
    "    'OS41': 'Other',\n",
    "    'OS42': 'Other',\n",
    "    'OS43': 'Other',\n",
    "    'OS44': 'Other',\n",
    "    'OS45': 'Other',\n",
    "    'OS46': 'Other',\n",
    "    'OS47': 'Other',\n",
    "    'OS48': 'Other',\n",
    "    'OS49': 'Other',\n",
    "    'OS50': 'Other',\n",
    "    'OS51': 'Other',\n",
    "    'OS52': 'Other',\n",
    "    'OS53': 'Other',\n",
    "    'OS54': 'Other',\n",
    "    'OS55': 'Other',\n",
    "    'OS56': 'Other',\n",
    "    'OS57': 'Other',\n",
    "    'OS58': 'Other',\n",
    "    'OS59': 'Other',\n",
    "    'OS60': 'Other',\n",
    "}"
   ]
  },
  {
   "cell_type": "code",
   "execution_count": 24,
   "metadata": {
    "id": "SYw2eAGqsxl5"
   },
   "outputs": [],
   "source": [
    "kingco_sales_df['zoning_type'] = kingco_sales_df['zoning'].map(zoning_to_type).fillna('Unknown')\n",
    "kingco_homes_df['zoning_type'] = kingco_homes_df['zoning'].map(zoning_to_type).fillna('Unknown')"
   ]
  },
  {
   "cell_type": "code",
   "execution_count": 25,
   "metadata": {
    "id": "AAh98cMjs6X4"
   },
   "outputs": [],
   "source": [
    "kingco_sales_df = kingco_sales_df.drop(columns=['zoning'])\n",
    "kingco_homes_df = kingco_homes_df.drop(columns=['zoning'])"
   ]
  },
  {
   "cell_type": "markdown",
   "metadata": {
    "id": "HQvSZ-mpnOud"
   },
   "source": [
    "# Load"
   ]
  },
  {
   "cell_type": "code",
   "execution_count": 26,
   "metadata": {
    "id": "ZrOWrJZJnSv5"
   },
   "outputs": [],
   "source": [
    "table_name = \"kingco_sales\"\n",
    "table_name2 = \"kingco_homes\"\n",
    "table_name3 = \"kingco_index\""
   ]
  },
  {
   "cell_type": "code",
   "execution_count": 27,
   "metadata": {},
   "outputs": [
    {
     "data": {
      "text/plain": [
       "49"
      ]
     },
     "execution_count": 27,
     "metadata": {},
     "output_type": "execute_result"
    }
   ],
   "source": [
    "kingco_sales_df.to_sql(table_name, engine, if_exists='replace', index=False)\n",
    "kingco_homes_df.to_sql(table_name2, engine, if_exists='replace', index=False)\n",
    "kingco_index.to_sql(table_name3, engine, if_exists='replace', index=False)"
   ]
  }
 ],
 "metadata": {
  "colab": {
   "provenance": []
  },
  "kernelspec": {
   "display_name": "backend-_O7a6dm_",
   "language": "python",
   "name": "python3"
  },
  "language_info": {
   "codemirror_mode": {
    "name": "ipython",
    "version": 3
   },
   "file_extension": ".py",
   "mimetype": "text/x-python",
   "name": "python",
   "nbconvert_exporter": "python",
   "pygments_lexer": "ipython3",
   "version": "3.12.0"
  }
 },
 "nbformat": 4,
 "nbformat_minor": 0
}
